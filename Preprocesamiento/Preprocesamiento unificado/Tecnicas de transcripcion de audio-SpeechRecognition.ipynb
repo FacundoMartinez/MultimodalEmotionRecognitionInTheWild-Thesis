{
 "cells": [
  {
   "cell_type": "code",
   "execution_count": 1,
   "id": "a97cb9a6",
   "metadata": {},
   "outputs": [],
   "source": [
    "from tqdm import tqdm\n",
    "import numpy as np\n",
    "from transformers import pipeline\n",
    "import torch"
   ]
  },
  {
   "cell_type": "code",
   "execution_count": 2,
   "id": "cdf134a0",
   "metadata": {},
   "outputs": [
    {
     "data": {
      "text/html": [
       "<div>\n",
       "<style scoped>\n",
       "    .dataframe tbody tr th:only-of-type {\n",
       "        vertical-align: middle;\n",
       "    }\n",
       "\n",
       "    .dataframe tbody tr th {\n",
       "        vertical-align: top;\n",
       "    }\n",
       "\n",
       "    .dataframe thead th {\n",
       "        text-align: right;\n",
       "    }\n",
       "</style>\n",
       "<table border=\"1\" class=\"dataframe\">\n",
       "  <thead>\n",
       "    <tr style=\"text-align: right;\">\n",
       "      <th></th>\n",
       "      <th>NombreArchivo</th>\n",
       "      <th>RutaArchivo</th>\n",
       "      <th>Duracion</th>\n",
       "    </tr>\n",
       "  </thead>\n",
       "  <tbody>\n",
       "    <tr>\n",
       "      <th>0</th>\n",
       "      <td>00038.wav</td>\n",
       "      <td>D:\\sentirobots\\Audios para pruebas\\00038.wav</td>\n",
       "      <td>5.500000</td>\n",
       "    </tr>\n",
       "    <tr>\n",
       "      <th>1</th>\n",
       "      <td>000451774.wav</td>\n",
       "      <td>D:\\sentirobots\\Audios para pruebas\\000451774.wav</td>\n",
       "      <td>2.184036</td>\n",
       "    </tr>\n",
       "    <tr>\n",
       "      <th>2</th>\n",
       "      <td>000452240.wav</td>\n",
       "      <td>D:\\sentirobots\\Audios para pruebas\\000452240.wav</td>\n",
       "      <td>3.288027</td>\n",
       "    </tr>\n",
       "    <tr>\n",
       "      <th>3</th>\n",
       "      <td>000505440.wav</td>\n",
       "      <td>D:\\sentirobots\\Audios para pruebas\\000505440.wav</td>\n",
       "      <td>2.760000</td>\n",
       "    </tr>\n",
       "    <tr>\n",
       "      <th>4</th>\n",
       "      <td>000513320.wav</td>\n",
       "      <td>D:\\sentirobots\\Audios para pruebas\\000513320.wav</td>\n",
       "      <td>1.776009</td>\n",
       "    </tr>\n",
       "    <tr>\n",
       "      <th>...</th>\n",
       "      <td>...</td>\n",
       "      <td>...</td>\n",
       "      <td>...</td>\n",
       "    </tr>\n",
       "    <tr>\n",
       "      <th>71</th>\n",
       "      <td>video44.wav</td>\n",
       "      <td>D:\\sentirobots\\Audios para pruebas\\video44.wav</td>\n",
       "      <td>259.530159</td>\n",
       "    </tr>\n",
       "    <tr>\n",
       "      <th>72</th>\n",
       "      <td>video51.wav</td>\n",
       "      <td>D:\\sentirobots\\Audios para pruebas\\video51.wav</td>\n",
       "      <td>146.913379</td>\n",
       "    </tr>\n",
       "    <tr>\n",
       "      <th>73</th>\n",
       "      <td>video60.wav</td>\n",
       "      <td>D:\\sentirobots\\Audios para pruebas\\video60.wav</td>\n",
       "      <td>63.994875</td>\n",
       "    </tr>\n",
       "    <tr>\n",
       "      <th>74</th>\n",
       "      <td>video67.wav</td>\n",
       "      <td>D:\\sentirobots\\Audios para pruebas\\video67.wav</td>\n",
       "      <td>61.649660</td>\n",
       "    </tr>\n",
       "    <tr>\n",
       "      <th>75</th>\n",
       "      <td>video74.wav</td>\n",
       "      <td>D:\\sentirobots\\Audios para pruebas\\video74.wav</td>\n",
       "      <td>606.296281</td>\n",
       "    </tr>\n",
       "  </tbody>\n",
       "</table>\n",
       "<p>76 rows × 3 columns</p>\n",
       "</div>"
      ],
      "text/plain": [
       "    NombreArchivo                                       RutaArchivo  \\\n",
       "0       00038.wav      D:\\sentirobots\\Audios para pruebas\\00038.wav   \n",
       "1   000451774.wav  D:\\sentirobots\\Audios para pruebas\\000451774.wav   \n",
       "2   000452240.wav  D:\\sentirobots\\Audios para pruebas\\000452240.wav   \n",
       "3   000505440.wav  D:\\sentirobots\\Audios para pruebas\\000505440.wav   \n",
       "4   000513320.wav  D:\\sentirobots\\Audios para pruebas\\000513320.wav   \n",
       "..            ...                                               ...   \n",
       "71    video44.wav    D:\\sentirobots\\Audios para pruebas\\video44.wav   \n",
       "72    video51.wav    D:\\sentirobots\\Audios para pruebas\\video51.wav   \n",
       "73    video60.wav    D:\\sentirobots\\Audios para pruebas\\video60.wav   \n",
       "74    video67.wav    D:\\sentirobots\\Audios para pruebas\\video67.wav   \n",
       "75    video74.wav    D:\\sentirobots\\Audios para pruebas\\video74.wav   \n",
       "\n",
       "      Duracion  \n",
       "0     5.500000  \n",
       "1     2.184036  \n",
       "2     3.288027  \n",
       "3     2.760000  \n",
       "4     1.776009  \n",
       "..         ...  \n",
       "71  259.530159  \n",
       "72  146.913379  \n",
       "73   63.994875  \n",
       "74   61.649660  \n",
       "75  606.296281  \n",
       "\n",
       "[76 rows x 3 columns]"
      ]
     },
     "execution_count": 2,
     "metadata": {},
     "output_type": "execute_result"
    }
   ],
   "source": [
    "import os\n",
    "import pandas as pd\n",
    "import librosa\n",
    "\n",
    "def obtener_nombres_archivos(ruta):\n",
    "    archivos = []\n",
    "    for nombre_archivo in os.listdir(ruta):\n",
    "        if os.path.isfile(os.path.join(ruta, nombre_archivo)):\n",
    "            ruta_completa = os.path.join(ruta, nombre_archivo)\n",
    "            duracion = obtener_duracion_audio(ruta_completa)\n",
    "            archivos.append({'NombreArchivo': nombre_archivo, 'RutaArchivo': ruta_completa, 'Duracion': duracion})\n",
    "    df = pd.DataFrame(archivos)\n",
    "    return df\n",
    "\n",
    "def obtener_duracion_audio(ruta_archivo):\n",
    "    audio, sr = librosa.load(ruta_archivo)\n",
    "    duracion = len(audio) / sr\n",
    "    return duracion\n",
    "\n",
    "ruta_carpeta = r'D:\\sentirobots\\Audios para pruebas'\n",
    "df = obtener_nombres_archivos(ruta_carpeta)\n",
    "df"
   ]
  },
  {
   "cell_type": "code",
   "execution_count": 3,
   "id": "3c18289c",
   "metadata": {},
   "outputs": [
    {
     "name": "stderr",
     "output_type": "stream",
     "text": [
      "6it [00:04,  1.50it/s]"
     ]
    },
    {
     "name": "stdout",
     "output_type": "stream",
     "text": [
      "No se pudo reconocer el audio\n"
     ]
    },
    {
     "name": "stderr",
     "output_type": "stream",
     "text": [
      "12it [00:12,  1.19s/it]"
     ]
    },
    {
     "name": "stdout",
     "output_type": "stream",
     "text": [
      "No se pudo reconocer el audio\n"
     ]
    },
    {
     "name": "stderr",
     "output_type": "stream",
     "text": [
      "\r",
      "13it [00:12,  1.11it/s]"
     ]
    },
    {
     "name": "stdout",
     "output_type": "stream",
     "text": [
      "No se pudo reconocer el audio\n"
     ]
    },
    {
     "name": "stderr",
     "output_type": "stream",
     "text": [
      "\r",
      "14it [00:13,  1.09it/s]"
     ]
    },
    {
     "name": "stdout",
     "output_type": "stream",
     "text": [
      "No se pudo reconocer el audio\n"
     ]
    },
    {
     "name": "stderr",
     "output_type": "stream",
     "text": [
      "\r",
      "15it [00:14,  1.10it/s]"
     ]
    },
    {
     "name": "stdout",
     "output_type": "stream",
     "text": [
      "No se pudo reconocer el audio\n"
     ]
    },
    {
     "name": "stderr",
     "output_type": "stream",
     "text": [
      "19it [00:17,  1.08it/s]"
     ]
    },
    {
     "name": "stdout",
     "output_type": "stream",
     "text": [
      "No se pudo reconocer el audio\n"
     ]
    },
    {
     "name": "stderr",
     "output_type": "stream",
     "text": [
      "\r",
      "20it [00:18,  1.31it/s]"
     ]
    },
    {
     "name": "stdout",
     "output_type": "stream",
     "text": [
      "No se pudo reconocer el audio\n"
     ]
    },
    {
     "name": "stderr",
     "output_type": "stream",
     "text": [
      "22it [00:18,  2.08it/s]"
     ]
    },
    {
     "name": "stdout",
     "output_type": "stream",
     "text": [
      "No se pudo reconocer el audio\n",
      "No se pudo reconocer el audio\n"
     ]
    },
    {
     "name": "stderr",
     "output_type": "stream",
     "text": [
      "\r",
      "23it [00:18,  2.48it/s]"
     ]
    },
    {
     "name": "stdout",
     "output_type": "stream",
     "text": [
      "No se pudo reconocer el audio\n"
     ]
    },
    {
     "name": "stderr",
     "output_type": "stream",
     "text": [
      "\r",
      "24it [00:19,  2.86it/s]"
     ]
    },
    {
     "name": "stdout",
     "output_type": "stream",
     "text": [
      "No se pudo reconocer el audio\n"
     ]
    },
    {
     "name": "stderr",
     "output_type": "stream",
     "text": [
      "\r",
      "25it [00:19,  3.17it/s]"
     ]
    },
    {
     "name": "stdout",
     "output_type": "stream",
     "text": [
      "No se pudo reconocer el audio\n"
     ]
    },
    {
     "name": "stderr",
     "output_type": "stream",
     "text": [
      "\r",
      "26it [00:19,  3.10it/s]"
     ]
    },
    {
     "name": "stdout",
     "output_type": "stream",
     "text": [
      "No se pudo reconocer el audio\n"
     ]
    },
    {
     "name": "stderr",
     "output_type": "stream",
     "text": [
      "\r",
      "27it [00:19,  3.23it/s]"
     ]
    },
    {
     "name": "stdout",
     "output_type": "stream",
     "text": [
      "No se pudo reconocer el audio\n"
     ]
    },
    {
     "name": "stderr",
     "output_type": "stream",
     "text": [
      "\r",
      "28it [00:20,  3.32it/s]"
     ]
    },
    {
     "name": "stdout",
     "output_type": "stream",
     "text": [
      "No se pudo reconocer el audio\n"
     ]
    },
    {
     "name": "stderr",
     "output_type": "stream",
     "text": [
      "\r",
      "29it [00:21,  1.97it/s]"
     ]
    },
    {
     "name": "stdout",
     "output_type": "stream",
     "text": [
      "No se pudo reconocer el audio\n"
     ]
    },
    {
     "name": "stderr",
     "output_type": "stream",
     "text": [
      "\r",
      "30it [00:21,  2.16it/s]"
     ]
    },
    {
     "name": "stdout",
     "output_type": "stream",
     "text": [
      "No se pudo reconocer el audio\n"
     ]
    },
    {
     "name": "stderr",
     "output_type": "stream",
     "text": [
      "\r",
      "31it [00:22,  1.49it/s]"
     ]
    },
    {
     "name": "stdout",
     "output_type": "stream",
     "text": [
      "No se pudo reconocer el audio\n"
     ]
    },
    {
     "name": "stderr",
     "output_type": "stream",
     "text": [
      "\r",
      "32it [00:23,  1.73it/s]"
     ]
    },
    {
     "name": "stdout",
     "output_type": "stream",
     "text": [
      "No se pudo reconocer el audio\n"
     ]
    },
    {
     "name": "stderr",
     "output_type": "stream",
     "text": [
      "\r",
      "33it [00:23,  1.74it/s]"
     ]
    },
    {
     "name": "stdout",
     "output_type": "stream",
     "text": [
      "No se pudo reconocer el audio\n"
     ]
    },
    {
     "name": "stderr",
     "output_type": "stream",
     "text": [
      "\r",
      "34it [00:24,  1.66it/s]"
     ]
    },
    {
     "name": "stdout",
     "output_type": "stream",
     "text": [
      "No se pudo reconocer el audio\n"
     ]
    },
    {
     "name": "stderr",
     "output_type": "stream",
     "text": [
      "\r",
      "35it [00:24,  2.01it/s]"
     ]
    },
    {
     "name": "stdout",
     "output_type": "stream",
     "text": [
      "No se pudo reconocer el audio\n"
     ]
    },
    {
     "name": "stderr",
     "output_type": "stream",
     "text": [
      "37it [00:50,  5.62s/it]"
     ]
    },
    {
     "name": "stdout",
     "output_type": "stream",
     "text": [
      "No se pudo reconocer el audio\n"
     ]
    },
    {
     "name": "stderr",
     "output_type": "stream",
     "text": [
      "39it [01:31, 13.29s/it]"
     ]
    },
    {
     "name": "stdout",
     "output_type": "stream",
     "text": [
      "No se pudo reconocer el audio\n"
     ]
    },
    {
     "name": "stderr",
     "output_type": "stream",
     "text": [
      "\r",
      "40it [01:32,  9.52s/it]"
     ]
    },
    {
     "name": "stdout",
     "output_type": "stream",
     "text": [
      "No se pudo reconocer el audio\n"
     ]
    },
    {
     "name": "stderr",
     "output_type": "stream",
     "text": [
      "48it [03:27,  9.48s/it]"
     ]
    },
    {
     "name": "stdout",
     "output_type": "stream",
     "text": [
      "No se pudo reconocer el audio\n"
     ]
    },
    {
     "name": "stderr",
     "output_type": "stream",
     "text": [
      "50it [03:30,  5.54s/it]"
     ]
    },
    {
     "name": "stdout",
     "output_type": "stream",
     "text": [
      "No se pudo reconocer el audio\n"
     ]
    },
    {
     "name": "stderr",
     "output_type": "stream",
     "text": [
      "\r",
      "51it [03:30,  4.10s/it]"
     ]
    },
    {
     "name": "stdout",
     "output_type": "stream",
     "text": [
      "No se pudo reconocer el audio\n"
     ]
    },
    {
     "name": "stderr",
     "output_type": "stream",
     "text": [
      "53it [03:31,  2.14s/it]"
     ]
    },
    {
     "name": "stdout",
     "output_type": "stream",
     "text": [
      "No se pudo reconocer el audio\n"
     ]
    },
    {
     "name": "stderr",
     "output_type": "stream",
     "text": [
      "\r",
      "54it [03:31,  1.57s/it]"
     ]
    },
    {
     "name": "stdout",
     "output_type": "stream",
     "text": [
      "No se pudo reconocer el audio\n"
     ]
    },
    {
     "name": "stderr",
     "output_type": "stream",
     "text": [
      "\r",
      "55it [03:33,  1.52s/it]"
     ]
    },
    {
     "name": "stdout",
     "output_type": "stream",
     "text": [
      "No se pudo reconocer el audio\n"
     ]
    },
    {
     "name": "stderr",
     "output_type": "stream",
     "text": [
      "57it [03:33,  1.10it/s]"
     ]
    },
    {
     "name": "stdout",
     "output_type": "stream",
     "text": [
      "No se pudo reconocer el audio\n"
     ]
    },
    {
     "name": "stderr",
     "output_type": "stream",
     "text": [
      "\r",
      "58it [03:34,  1.02it/s]"
     ]
    },
    {
     "name": "stdout",
     "output_type": "stream",
     "text": [
      "No se pudo reconocer el audio\n"
     ]
    },
    {
     "name": "stderr",
     "output_type": "stream",
     "text": [
      "61it [03:37,  1.23it/s]"
     ]
    },
    {
     "name": "stdout",
     "output_type": "stream",
     "text": [
      "No se pudo reconocer el audio\n"
     ]
    },
    {
     "name": "stderr",
     "output_type": "stream",
     "text": [
      "\r",
      "62it [03:40,  1.57s/it]"
     ]
    },
    {
     "name": "stdout",
     "output_type": "stream",
     "text": [
      "No se pudo reconocer el audio\n"
     ]
    },
    {
     "name": "stderr",
     "output_type": "stream",
     "text": [
      "64it [03:42,  1.36s/it]"
     ]
    },
    {
     "name": "stdout",
     "output_type": "stream",
     "text": [
      "No se pudo reconocer el audio\n"
     ]
    },
    {
     "name": "stderr",
     "output_type": "stream",
     "text": [
      "\r",
      "65it [03:43,  1.15s/it]"
     ]
    },
    {
     "name": "stdout",
     "output_type": "stream",
     "text": [
      "No se pudo reconocer el audio\n"
     ]
    },
    {
     "name": "stderr",
     "output_type": "stream",
     "text": [
      "\r",
      "66it [03:43,  1.10it/s]"
     ]
    },
    {
     "name": "stdout",
     "output_type": "stream",
     "text": [
      "No se pudo reconocer el audio\n"
     ]
    },
    {
     "name": "stderr",
     "output_type": "stream",
     "text": [
      "\r",
      "67it [03:44,  1.38it/s]"
     ]
    },
    {
     "name": "stdout",
     "output_type": "stream",
     "text": [
      "No se pudo reconocer el audio\n"
     ]
    },
    {
     "name": "stderr",
     "output_type": "stream",
     "text": [
      "\r",
      "68it [03:44,  1.52it/s]"
     ]
    },
    {
     "name": "stdout",
     "output_type": "stream",
     "text": [
      "No se pudo reconocer el audio\n"
     ]
    },
    {
     "name": "stderr",
     "output_type": "stream",
     "text": [
      "\r",
      "69it [03:45,  1.65it/s]"
     ]
    },
    {
     "name": "stdout",
     "output_type": "stream",
     "text": [
      "No se pudo reconocer el audio\n"
     ]
    },
    {
     "name": "stderr",
     "output_type": "stream",
     "text": [
      "72it [06:28, 40.62s/it]"
     ]
    },
    {
     "name": "stdout",
     "output_type": "stream",
     "text": [
      "No se pudo reconocer el audio\n"
     ]
    },
    {
     "name": "stderr",
     "output_type": "stream",
     "text": [
      "76it [09:02,  7.14s/it]\n"
     ]
    },
    {
     "data": {
      "text/html": [
       "<div>\n",
       "<style scoped>\n",
       "    .dataframe tbody tr th:only-of-type {\n",
       "        vertical-align: middle;\n",
       "    }\n",
       "\n",
       "    .dataframe tbody tr th {\n",
       "        vertical-align: top;\n",
       "    }\n",
       "\n",
       "    .dataframe thead th {\n",
       "        text-align: right;\n",
       "    }\n",
       "</style>\n",
       "<table border=\"1\" class=\"dataframe\">\n",
       "  <thead>\n",
       "    <tr style=\"text-align: right;\">\n",
       "      <th></th>\n",
       "      <th>filename</th>\n",
       "      <th>Duration</th>\n",
       "      <th>Text</th>\n",
       "    </tr>\n",
       "  </thead>\n",
       "  <tbody>\n",
       "    <tr>\n",
       "      <th>0</th>\n",
       "      <td>D:\\sentirobots\\Audios para pruebas\\00038.wav</td>\n",
       "      <td>5.500000</td>\n",
       "      <td>and then if you'd like Allendale curiosity all...</td>\n",
       "    </tr>\n",
       "    <tr>\n",
       "      <th>1</th>\n",
       "      <td>D:\\sentirobots\\Audios para pruebas\\000451774.wav</td>\n",
       "      <td>2.184036</td>\n",
       "      <td>no before this</td>\n",
       "    </tr>\n",
       "    <tr>\n",
       "      <th>2</th>\n",
       "      <td>D:\\sentirobots\\Audios para pruebas\\000452240.wav</td>\n",
       "      <td>3.288027</td>\n",
       "      <td>I need to get into Gringo's into one of the va...</td>\n",
       "    </tr>\n",
       "    <tr>\n",
       "      <th>3</th>\n",
       "      <td>D:\\sentirobots\\Audios para pruebas\\000505440.wav</td>\n",
       "      <td>2.760000</td>\n",
       "      <td>you are not dancing you are not dancing</td>\n",
       "    </tr>\n",
       "    <tr>\n",
       "      <th>4</th>\n",
       "      <td>D:\\sentirobots\\Audios para pruebas\\000513320.wav</td>\n",
       "      <td>1.776009</td>\n",
       "      <td>happy</td>\n",
       "    </tr>\n",
       "    <tr>\n",
       "      <th>...</th>\n",
       "      <td>...</td>\n",
       "      <td>...</td>\n",
       "      <td>...</td>\n",
       "    </tr>\n",
       "    <tr>\n",
       "      <th>71</th>\n",
       "      <td>D:\\sentirobots\\Audios para pruebas\\video44.wav</td>\n",
       "      <td>259.530159</td>\n",
       "      <td></td>\n",
       "    </tr>\n",
       "    <tr>\n",
       "      <th>72</th>\n",
       "      <td>D:\\sentirobots\\Audios para pruebas\\video51.wav</td>\n",
       "      <td>146.913379</td>\n",
       "      <td>I'm tempted to say smart creative people have ...</td>\n",
       "    </tr>\n",
       "    <tr>\n",
       "      <th>73</th>\n",
       "      <td>D:\\sentirobots\\Audios para pruebas\\video60.wav</td>\n",
       "      <td>63.994875</td>\n",
       "      <td>you mean I like you okay so you guys there's a...</td>\n",
       "    </tr>\n",
       "    <tr>\n",
       "      <th>74</th>\n",
       "      <td>D:\\sentirobots\\Audios para pruebas\\video67.wav</td>\n",
       "      <td>61.649660</td>\n",
       "      <td>search thi thirsty daddy Exclamation point Exc...</td>\n",
       "    </tr>\n",
       "    <tr>\n",
       "      <th>75</th>\n",
       "      <td>D:\\sentirobots\\Audios para pruebas\\video74.wav</td>\n",
       "      <td>606.296281</td>\n",
       "      <td>call my mom why was she speeding like that foo...</td>\n",
       "    </tr>\n",
       "  </tbody>\n",
       "</table>\n",
       "<p>76 rows × 3 columns</p>\n",
       "</div>"
      ],
      "text/plain": [
       "                                            filename    Duration  \\\n",
       "0       D:\\sentirobots\\Audios para pruebas\\00038.wav    5.500000   \n",
       "1   D:\\sentirobots\\Audios para pruebas\\000451774.wav    2.184036   \n",
       "2   D:\\sentirobots\\Audios para pruebas\\000452240.wav    3.288027   \n",
       "3   D:\\sentirobots\\Audios para pruebas\\000505440.wav    2.760000   \n",
       "4   D:\\sentirobots\\Audios para pruebas\\000513320.wav    1.776009   \n",
       "..                                               ...         ...   \n",
       "71    D:\\sentirobots\\Audios para pruebas\\video44.wav  259.530159   \n",
       "72    D:\\sentirobots\\Audios para pruebas\\video51.wav  146.913379   \n",
       "73    D:\\sentirobots\\Audios para pruebas\\video60.wav   63.994875   \n",
       "74    D:\\sentirobots\\Audios para pruebas\\video67.wav   61.649660   \n",
       "75    D:\\sentirobots\\Audios para pruebas\\video74.wav  606.296281   \n",
       "\n",
       "                                                 Text  \n",
       "0   and then if you'd like Allendale curiosity all...  \n",
       "1                                      no before this  \n",
       "2   I need to get into Gringo's into one of the va...  \n",
       "3             you are not dancing you are not dancing  \n",
       "4                                               happy  \n",
       "..                                                ...  \n",
       "71                                                     \n",
       "72  I'm tempted to say smart creative people have ...  \n",
       "73  you mean I like you okay so you guys there's a...  \n",
       "74  search thi thirsty daddy Exclamation point Exc...  \n",
       "75  call my mom why was she speeding like that foo...  \n",
       "\n",
       "[76 rows x 3 columns]"
      ]
     },
     "execution_count": 3,
     "metadata": {},
     "output_type": "execute_result"
    }
   ],
   "source": [
    "import pandas as pd\n",
    "import librosa\n",
    "import speech_recognition as sr\n",
    "\n",
    "sample_rate = 22400\n",
    "max_time = 7.\n",
    "\n",
    "traindf = pd.DataFrame(columns=['filename', 'Duration', 'Text'])\n",
    "\n",
    "def normalize_audio(audio):\n",
    "    normalized = (audio - audio.mean()) / audio.std()\n",
    "    return normalized\n",
    "\n",
    "\n",
    "def transcripcion(audio_path):\n",
    "    r = sr.Recognizer()\n",
    "    with sr.AudioFile(audio_path) as source:\n",
    "        audio = r.record(source)\n",
    "        try:\n",
    "            text = r.recognize_google(audio)\n",
    "            return text\n",
    "        except sr.UnknownValueError:\n",
    "            print(\"No se pudo reconocer el audio\")\n",
    "            return \"\"\n",
    "        except sr.RequestError as e:\n",
    "            print(\"Error al hacer la solicitud al servicio de reconocimiento de voz: \", e)\n",
    "            return \"\"\n",
    "\n",
    "for _, row in tqdm(df.iterrows()):\n",
    "    audiofile, _ = librosa.load(path=row['RutaArchivo'], sr=sample_rate, duration=np.minimum(row['Duracion'], max_time))\n",
    "\n",
    "    if row['Duracion'] < max_time:\n",
    "        audiofile = librosa.util.pad_center(data=audiofile, size=sample_rate * max_time)\n",
    "\n",
    "    normalized = normalize_audio(audiofile)\n",
    "    transcription = transcripcion(row['RutaArchivo'])\n",
    "\n",
    "    rowdf = pd.DataFrame({\n",
    "        'filename': row['RutaArchivo'],\n",
    "        'Duration': row['Duracion'],\n",
    "        'Text': transcription,\n",
    "    }, index=pd.Index([0]))\n",
    "\n",
    "    traindf = pd.concat([traindf, rowdf], ignore_index=True)\n",
    "\n",
    "traindf\n"
   ]
  },
  {
   "cell_type": "code",
   "execution_count": 4,
   "id": "253a6470",
   "metadata": {},
   "outputs": [
    {
     "name": "stdout",
     "output_type": "stream",
     "text": [
      "Número de valores vacíos en la columna Text: 42\n",
      "Total de registros en la columna Text: 76\n",
      "Porcentaje de valores vacíos en la columna Text: 55.26%\n"
     ]
    }
   ],
   "source": [
    "columna = \"Text\"\n",
    "num_vacios = traindf[columna].eq('').sum()\n",
    "total_registros = traindf[columna].shape[0]\n",
    "porcentaje_vacios = (num_vacios / total_registros) * 100\n",
    "\n",
    "print(\"Número de valores vacíos en la columna {}: {}\".format(columna, num_vacios))\n",
    "print(\"Total de registros en la columna {}: {}\".format(columna, total_registros))\n",
    "print(\"Porcentaje de valores vacíos en la columna {}: {:.2f}%\".format(columna, porcentaje_vacios))"
   ]
  },
  {
   "cell_type": "code",
   "execution_count": 6,
   "id": "ace8a703",
   "metadata": {},
   "outputs": [
    {
     "name": "stdout",
     "output_type": "stream",
     "text": [
      "Realizado\n"
     ]
    }
   ],
   "source": [
    "traindf.to_excel(r'D:\\sentirobots\\Audios para pruebas\\transcripcion-SpeechRecognition.xlsx', index=False)\n",
    "print(\"Realizado\")"
   ]
  },
  {
   "cell_type": "code",
   "execution_count": null,
   "id": "eaa40be1",
   "metadata": {},
   "outputs": [],
   "source": []
  }
 ],
 "metadata": {
  "kernelspec": {
   "display_name": "Python 3 (ipykernel)",
   "language": "python",
   "name": "python3"
  },
  "language_info": {
   "codemirror_mode": {
    "name": "ipython",
    "version": 3
   },
   "file_extension": ".py",
   "mimetype": "text/x-python",
   "name": "python",
   "nbconvert_exporter": "python",
   "pygments_lexer": "ipython3",
   "version": "3.11.4"
  }
 },
 "nbformat": 4,
 "nbformat_minor": 5
}
