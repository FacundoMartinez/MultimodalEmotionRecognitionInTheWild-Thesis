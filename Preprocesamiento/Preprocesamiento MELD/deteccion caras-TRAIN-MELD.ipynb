{
 "cells": [
  {
   "cell_type": "markdown",
   "id": "ef6c773b",
   "metadata": {},
   "source": [
    "# Recortes caras\n",
    "## MELD Train"
   ]
  },
  {
   "cell_type": "code",
   "execution_count": 1,
   "id": "e71dc3d4",
   "metadata": {},
   "outputs": [
    {
     "name": "stdout",
     "output_type": "stream",
     "text": [
      "Proceso completado.\n"
     ]
    }
   ],
   "source": [
    "import cv2\n",
    "import os\n",
    "\n",
    "# Directorio de entrada de los videos\n",
    "videos_directory = r'D:\\sentirobots\\Datasets\\MELD\\train\\train_splits'\n",
    "\n",
    "# Directorio de salida para los frames\n",
    "frames_directory = r'D:\\sentirobots\\Datasets\\MELD\\Caras MELD\\TRAIN cropped images'\n",
    "\n",
    "# Cargar el clasificador preentrenado para la detección de rostros\n",
    "face_cascade = cv2.CascadeClassifier(cv2.data.haarcascades + 'haarcascade_frontalface_default.xml')\n",
    "\n",
    "for filename in os.listdir(videos_directory):\n",
    "    if filename.endswith('.mp4'):  \n",
    "        video_path = os.path.join(videos_directory, filename)\n",
    "        video_capture = cv2.VideoCapture(video_path)\n",
    "\n",
    "        # Obtener el nombre del video sin la extensión\n",
    "        video_name = os.path.splitext(filename)[0]\n",
    "\n",
    "        # Crear una carpeta con el nombre del video en el directorio de salida\n",
    "        output_directory = os.path.join(frames_directory, video_name)\n",
    "        os.makedirs(output_directory, exist_ok=True)\n",
    "\n",
    "        frame_count = 0\n",
    "\n",
    "        while True:\n",
    "            # Leer el siguiente frame del video\n",
    "            ret, frame = video_capture.read()\n",
    "            if not ret:\n",
    "                break\n",
    "\n",
    "            # Convertir el frame a escala de grises para la detección de rostros\n",
    "            gray = cv2.cvtColor(frame, cv2.COLOR_BGR2GRAY)\n",
    "\n",
    "            # Detectar rostros en el frame\n",
    "            faces = face_cascade.detectMultiScale(gray, scaleFactor=1.1, minNeighbors=5, minSize=(30, 30))\n",
    "\n",
    "            # Guardar cada frame con rostros detectados en la carpeta correspondiente al video\n",
    "            for (x, y, w, h) in faces:\n",
    "                face_image = frame[y:y+h, x:x+w]\n",
    "                frame_path = os.path.join(output_directory, f'frame_{frame_count}.jpg')\n",
    "                cv2.imwrite(frame_path, face_image)\n",
    "                frame_count += 1\n",
    "\n",
    "        video_capture.release()\n",
    "\n",
    "print(\"Proceso completado.\")"
   ]
  },
  {
   "cell_type": "markdown",
   "id": "3417fa03",
   "metadata": {},
   "source": [
    "## MELD"
   ]
  },
  {
   "cell_type": "code",
   "execution_count": 2,
   "id": "0759a902",
   "metadata": {},
   "outputs": [
    {
     "name": "stdout",
     "output_type": "stream",
     "text": [
      "Proceso completado.\n"
     ]
    }
   ],
   "source": [
    "import cv2\n",
    "import os\n",
    "\n",
    "# Directorio de entrada de los videos\n",
    "videos_directory = r'D:\\sentirobots\\Datasets\\MELD\\dev\\dev_splits_complete'\n",
    "\n",
    "# Directorio de salida para los frames\n",
    "frames_directory = r'D:\\sentirobots\\Datasets\\MELD\\Caras MELD\\Dev cropped images'\n",
    "\n",
    "# Cargar el clasificador preentrenado para la detección de rostros\n",
    "face_cascade = cv2.CascadeClassifier(cv2.data.haarcascades + 'haarcascade_frontalface_default.xml')\n",
    "\n",
    "# Recorrer los videos en el directorio de entrada\n",
    "for filename in os.listdir(videos_directory):\n",
    "    if filename.endswith('.mp4'):  # Cambia la extensión si los videos tienen una diferente\n",
    "        video_path = os.path.join(videos_directory, filename)\n",
    "        video_capture = cv2.VideoCapture(video_path)\n",
    "\n",
    "        # Obtener el nombre del video sin la extensión\n",
    "        video_name = os.path.splitext(filename)[0]\n",
    "\n",
    "        # Crear una carpeta con el nombre del video en el directorio de salida\n",
    "        output_directory = os.path.join(frames_directory, video_name)\n",
    "        os.makedirs(output_directory, exist_ok=True)\n",
    "\n",
    "        frame_count = 0\n",
    "\n",
    "        while True:\n",
    "            # Leer el siguiente frame del video\n",
    "            ret, frame = video_capture.read()\n",
    "            if not ret:\n",
    "                break\n",
    "\n",
    "            # Convertir el frame a escala de grises para la detección de rostros\n",
    "            gray = cv2.cvtColor(frame, cv2.COLOR_BGR2GRAY)\n",
    "\n",
    "            # Detectar rostros en el frame\n",
    "            faces = face_cascade.detectMultiScale(gray, scaleFactor=1.1, minNeighbors=5, minSize=(64, 64))\n",
    "\n",
    "            # Guardar cada frame con rostros detectados en la carpeta correspondiente al video\n",
    "            for (x, y, w, h) in faces:\n",
    "                face_image = frame[y:y+h, x:x+w]\n",
    "                frame_path = os.path.join(output_directory, f'result_{video_name}.{frame_count}.jpg')\n",
    "                cv2.imwrite(frame_path, face_image)\n",
    "                frame_count += 1\n",
    "\n",
    "        video_capture.release()\n",
    "\n",
    "print(\"Proceso completado.\")\n"
   ]
  },
  {
   "cell_type": "code",
   "execution_count": null,
   "id": "273c03d0",
   "metadata": {},
   "outputs": [],
   "source": []
  }
 ],
 "metadata": {
  "kernelspec": {
   "display_name": "Python 3 (ipykernel)",
   "language": "python",
   "name": "python3"
  },
  "language_info": {
   "codemirror_mode": {
    "name": "ipython",
    "version": 3
   },
   "file_extension": ".py",
   "mimetype": "text/x-python",
   "name": "python",
   "nbconvert_exporter": "python",
   "pygments_lexer": "ipython3",
   "version": "3.11.4"
  }
 },
 "nbformat": 4,
 "nbformat_minor": 5
}
