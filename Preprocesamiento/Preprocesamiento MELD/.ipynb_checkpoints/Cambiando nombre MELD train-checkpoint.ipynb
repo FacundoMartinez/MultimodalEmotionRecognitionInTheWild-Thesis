{
 "cells": [
  {
   "cell_type": "code",
   "execution_count": 5,
   "id": "bed732c8",
   "metadata": {},
   "outputs": [],
   "source": [
    "import os\n",
    "\n",
    "def rename_files(root_folder):\n",
    "    for folder_name, subfolders, filenames in os.walk(root_folder):\n",
    "        for filename in filenames:\n",
    "            if filename.startswith(\"frame_\"):\n",
    "                new_filename = \"result_\" + folder_name.split(os.path.sep)[-1] + \".\" + filename[len(\"Frame_\"):]\n",
    "                old_file_path = os.path.join(folder_name, filename)\n",
    "                new_file_path = os.path.join(folder_name, new_filename)\n",
    "                os.rename(old_file_path, new_file_path)\n",
    "\n",
    "if __name__ == \"__main__\":\n",
    "    folder_path = r\"D:\\sentirobots\\Datasets\\MELD\\Caras MELD\\TRAIN cropped images\"\n",
    "    rename_files(folder_path)"
   ]
  },
  {
   "cell_type": "code",
   "execution_count": 6,
   "id": "b3087408",
   "metadata": {},
   "outputs": [
    {
     "name": "stdout",
     "output_type": "stream",
     "text": [
      "Terminó\n"
     ]
    }
   ],
   "source": [
    "print(\"Terminó\")"
   ]
  },
  {
   "cell_type": "code",
   "execution_count": null,
   "id": "7e0b9db8",
   "metadata": {},
   "outputs": [],
   "source": []
  }
 ],
 "metadata": {
  "kernelspec": {
   "display_name": "Python 3 (ipykernel)",
   "language": "python",
   "name": "python3"
  },
  "language_info": {
   "codemirror_mode": {
    "name": "ipython",
    "version": 3
   },
   "file_extension": ".py",
   "mimetype": "text/x-python",
   "name": "python",
   "nbconvert_exporter": "python",
   "pygments_lexer": "ipython3",
   "version": "3.11.4"
  }
 },
 "nbformat": 4,
 "nbformat_minor": 5
}
